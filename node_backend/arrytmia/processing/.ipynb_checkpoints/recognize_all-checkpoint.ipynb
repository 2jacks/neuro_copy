{
 "cells": [
  {
   "cell_type": "code",
   "execution_count": 1,
   "id": "befe35c2",
   "metadata": {},
   "outputs": [],
   "source": [
    "from IPython.display import display\n",
    "import matplotlib.pyplot as plt\n",
    "%matplotlib inline\n",
    "import numpy as np\n",
    "import os\n",
    "import shutil\n",
    "import posixpath\n",
    "import wfdb\n",
    "from biosppy.signals import ecg\n",
    "import glob\n",
    "import joblib\n",
    "from scipy import signal\n",
    "import pandas as pd"
   ]
  },
  {
   "cell_type": "code",
   "execution_count": 2,
   "id": "0a80fec7",
   "metadata": {},
   "outputs": [],
   "source": [
    "import glob\n",
    "from scipy import signal\n",
    "folder = r'test/*.hea'\n",
    "files = glob.glob(folder)"
   ]
  },
  {
   "cell_type": "code",
   "execution_count": 3,
   "id": "28aff6f4",
   "metadata": {},
   "outputs": [],
   "source": [
    "def get_data(file):\n",
    "    \n",
    "    normal_sinus_rhythm = joblib.load(\"./normal_sinus_rhythm.joblib\")\n",
    "    arrhythmia = joblib.load(\"./arrhythmia.joblib\")\n",
    "    atrial_fibrillation = joblib.load(\"./atrial_fibrillation.joblib\")\n",
    "    malignant_ventricular_ectopy = joblib.load(\"./malignant_ventricular_ectopy.joblib\")\n",
    "    supraventricular_arrhythmia = joblib.load(\"./supraventricular_arrhythmia.joblib\")\n",
    "    sudden_cardiac_death = joblib.load(\"./sudden_cardiac_death.joblib\")\n",
    "\n",
    "    signal_list=[]\n",
    "\n",
    "    for i in range(len(file)):\n",
    "        record = wfdb.rdrecord(file[:-4]) \n",
    "        fs=record.__dict__['fs']\n",
    "        channel_number=record.__dict__['n_sig']\n",
    "\n",
    "        for j in range(channel_number):\n",
    "            signal=record.__dict__['p_signal'][:, j][0:100000]\n",
    "            out = ecg.ecg(signal=signal, sampling_rate=fs, show=False)\n",
    "            out_array=out['templates']\n",
    "        \n",
    "            for k in range(out_array.shape[0]):\n",
    "                signal_list.append(out_array[k])\n",
    "\n",
    "    from scipy import signal             \n",
    "    rescaled_list=[]\n",
    "    for i in range(len(signal_list)):\n",
    "        rescaled_list.append(signal.resample(signal_list[i],76))\n",
    "        \n",
    "    X=np.array(rescaled_list)\n",
    "    normal_sinus_rhythm=np.mean(normal_sinus_rhythm.predict(X), axis = None)\n",
    "    arrhythmia=np.mean(arrhythmia.predict(X), axis = None)\n",
    "    atrial_fibrillation=np.mean(atrial_fibrillation.predict(X), axis = None) \n",
    "    malignant_ventricular_ectopy=np.mean(malignant_ventricular_ectopy.predict(X), axis = None) \n",
    "    supraventricular_arrhythmia=np.mean(supraventricular_arrhythmia.predict(X), axis = None) \n",
    "    column_list=[file, round(normal_sinus_rhythm,2), round(atrial_fibrillation,2), round(malignant_ventricular_ectopy,2), round(supraventricular_arrhythmia,2)]\n",
    "    df = pd.DataFrame(np.column_stack(column_list), columns=['file name', 'normal sinus rhythm', 'atrial fibrillation', 'malignant ventricular ectopy', 'supraventricular arrhythmia'])    \n",
    "    return df"
   ]
  },
  {
   "cell_type": "code",
   "execution_count": null,
   "id": "047145fb",
   "metadata": {},
   "outputs": [
    {
     "name": "stderr",
     "output_type": "stream",
     "text": [
      "C:\\Users\\anton\\AppData\\Local\\Programs\\Python\\Python310\\lib\\site-packages\\sklearn\\base.py:329: UserWarning: Trying to unpickle estimator DecisionTreeClassifier from version 1.1.2 when using version 1.1.3. This might lead to breaking code or invalid results. Use at your own risk. For more info please refer to:\n",
      "https://scikit-learn.org/stable/model_persistence.html#security-maintainability-limitations\n",
      "  warnings.warn(\n",
      "C:\\Users\\anton\\AppData\\Local\\Programs\\Python\\Python310\\lib\\site-packages\\sklearn\\base.py:329: UserWarning: Trying to unpickle estimator RandomForestClassifier from version 1.1.2 when using version 1.1.3. This might lead to breaking code or invalid results. Use at your own risk. For more info please refer to:\n",
      "https://scikit-learn.org/stable/model_persistence.html#security-maintainability-limitations\n",
      "  warnings.warn(\n",
      "C:\\Users\\anton\\AppData\\Local\\Programs\\Python\\Python310\\lib\\site-packages\\sklearn\\base.py:329: UserWarning: Trying to unpickle estimator DecisionTreeClassifier from version 1.1.2 when using version 1.1.3. This might lead to breaking code or invalid results. Use at your own risk. For more info please refer to:\n",
      "https://scikit-learn.org/stable/model_persistence.html#security-maintainability-limitations\n",
      "  warnings.warn(\n",
      "C:\\Users\\anton\\AppData\\Local\\Programs\\Python\\Python310\\lib\\site-packages\\sklearn\\base.py:329: UserWarning: Trying to unpickle estimator RandomForestClassifier from version 1.1.2 when using version 1.1.3. This might lead to breaking code or invalid results. Use at your own risk. For more info please refer to:\n",
      "https://scikit-learn.org/stable/model_persistence.html#security-maintainability-limitations\n",
      "  warnings.warn(\n"
     ]
    }
   ],
   "source": [
    "data_list=[]\n",
    "for i in range(len(files)):\n",
    "    data_list.append(get_data(files[i]))"
   ]
  },
  {
   "cell_type": "code",
   "execution_count": null,
   "id": "c2e2b043",
   "metadata": {},
   "outputs": [],
   "source": [
    "df = pd.concat(data_list, axis=0)"
   ]
  },
  {
   "cell_type": "code",
   "execution_count": null,
   "id": "2f8bd8d7",
   "metadata": {},
   "outputs": [],
   "source": [
    "df"
   ]
  },
  {
   "cell_type": "code",
   "execution_count": null,
   "id": "f9beafa5",
   "metadata": {},
   "outputs": [],
   "source": [
    "df.to_csv('result.csv')"
   ]
  },
  {
   "cell_type": "code",
   "execution_count": null,
   "id": "8b8889b1",
   "metadata": {},
   "outputs": [],
   "source": []
  }
 ],
 "metadata": {
  "kernelspec": {
   "display_name": "Python 3 (ipykernel)",
   "language": "python",
   "name": "python3"
  },
  "language_info": {
   "codemirror_mode": {
    "name": "ipython",
    "version": 3
   },
   "file_extension": ".py",
   "mimetype": "text/x-python",
   "name": "python",
   "nbconvert_exporter": "python",
   "pygments_lexer": "ipython3",
   "version": "3.10.8"
  }
 },
 "nbformat": 4,
 "nbformat_minor": 5
}
